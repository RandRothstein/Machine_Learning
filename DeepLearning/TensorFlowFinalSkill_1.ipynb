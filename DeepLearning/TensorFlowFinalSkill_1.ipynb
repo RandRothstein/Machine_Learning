{
 "cells": [
  {
   "cell_type": "code",
   "execution_count": null,
   "id": "5a473c9d",
   "metadata": {},
   "outputs": [],
   "source": [
    "def prep_images(filename,img_shape=224,scale=True):\n",
    "    img=tf.io.read(filename)\n",
    "    #Decode img to tensor\n",
    "    img=tf.image.decode_jpeg(img)\n",
    "    img=tf.image.resize(img,[img_shape,img_shape])\n",
    "\n",
    "    if scale:\n",
    "        return img/225.\n",
    "    else:\n",
    "        return img"
   ]
  },
  {
   "cell_type": "code",
   "execution_count": null,
   "id": "dc336763",
   "metadata": {},
   "outputs": [],
   "source": [
    "import os\n",
    "def walk_through_dir(dir_path):\n",
    "    \n",
    "    for dirpath,dirnames,filenames in os.walk(dir_path):\n",
    "        print(f\"There are {len(dirnames)} directories and {len(filenames)} images in {dirpath}.\")\n"
   ]
  },
  {
   "cell_type": "code",
   "execution_count": null,
   "id": "3de0d32e",
   "metadata": {},
   "outputs": [],
   "source": [
    "import zipfile\n",
    "def unzipfile(filename):\n",
    "    zipref=zipfile(filename,'r')\n",
    "    zipref.extractall()\n",
    "    zipref.close()"
   ]
  },
  {
   "cell_type": "code",
   "execution_count": 9,
   "id": "25cd022f",
   "metadata": {},
   "outputs": [
    {
     "data": {
      "text/plain": [
       "[<matplotlib.lines.Line2D at 0x2482d0b0050>]"
      ]
     },
     "execution_count": 9,
     "metadata": {},
     "output_type": "execute_result"
    },
    {
     "data": {
      "image/png": "[encoded data removed]",
      "text/plain": [
       "<Figure size 640x480 with 1 Axes>"
      ]
     },
     "metadata": {},
     "output_type": "display_data"
    }
   ],
   "source": [
    "import matplotlib.pyplot as plt\n",
    "initial_epochs=5    \n",
    "plt.plot([initial_epochs-1, initial_epochs-1],\n",
    "              plt.ylim(), label='Start Fine Tuning')"
   ]
  },
  {
   "cell_type": "code",
   "execution_count": 6,
   "id": "900f0517",
   "metadata": {},
   "outputs": [
    {
     "name": "stderr",
     "output_type": "stream",
     "text": [
      "'wget' is not recognized as an internal or external command,\n",
      "operable program or batch file.\n"
     ]
    }
   ],
   "source": [
    "!wget https://storage.googleapis.com/ztm_tf_course/food_vision/10_food_classes_10_percent.zip"
   ]
  },
  {
   "cell_type": "code",
   "execution_count": null,
   "id": "96381bdf",
   "metadata": {},
   "outputs": [
    {
     "ename": "ModuleNotFoundError",
     "evalue": "No module named 'tensorflow.keras'",
     "output_type": "error",
     "traceback": [
      "\u001b[1;31m---------------------------------------------------------------------------\u001b[0m",
      "\u001b[1;31mModuleNotFoundError\u001b[0m                       Traceback (most recent call last)",
      "Cell \u001b[1;32mIn[7], line 1\u001b[0m\n\u001b[1;32m----> 1\u001b[0m \u001b[38;5;28;01mfrom\u001b[39;00m \u001b[38;5;21;01mtensorflow\u001b[39;00m\u001b[38;5;21;01m.\u001b[39;00m\u001b[38;5;21;01mkeras\u001b[39;00m\u001b[38;5;21;01m.\u001b[39;00m\u001b[38;5;21;01mpreprocessing\u001b[39;00m\u001b[38;5;21;01m.\u001b[39;00m\u001b[38;5;21;01mimage\u001b[39;00m \u001b[38;5;28;01mimport\u001b[39;00m ImageDataGenerator\n",
      "\u001b[1;31mModuleNotFoundError\u001b[0m: No module named 'tensorflow.keras'"
     ]
    }
   ],
   "source": [
    "from tensorflow.keras.preprocessing.image import ImageDataGenerator\n",
    "\n",
    "train_dir='10_food_classes_10_percent/train/'\n",
    "test_dir='10_food_classes_10_percent/test/'\n",
    "\n",
    "train_datagen=ImageDataGenerator(rescale=1/225.)\n",
    "test_datagen=ImageDataGenerator(rescale=1/225.)\n",
    "\n",
    "train_data=train_datagen.flow_from_directory(train_dir,target_size=(224,224),batch_size=32,class_mode='categorical')\n",
    "\n",
    "test_data=test_datagen.flow_from_directory(test_dir,target_size=(224,224),batch_size=32,class_mode='categorical')\n",
    "\n",
    "\n",
    "##############################################################################################################################\n",
    "\n",
    "\n",
    "train_data=tf.keras.preprocessing.image_dataset_from_directory(directory=train_dir,image_size=(224,224),batch_size=32,label_mode='catagorical')\n",
    "\n",
    "test_data=tf.keras.preprocessing.image_dataset_from_directory(test_dir,image_size=(224,224),label_mode='categorical')"
   ]
  },
  {
   "cell_type": "code",
   "execution_count": null,
   "id": "509eaebd",
   "metadata": {},
   "outputs": [],
   "source": [
    "def create_tensoboard_callback(dir_name,experiment_name):\n",
    "    log_dir=dir_name+\"/\"+experiment_name+\"/\"+datatime.datetime.now().strftime(\"%Y%m%d\"-%H%M%S)\n",
    "    tensorboard_callback=tf.keras.callbacks.Tensorboard(\n",
    "        log_dir=log_dir\n",
    "    )\n",
    "    print('File is store in this directory {log_dir}')\n",
    "\n",
    "    return tensorboard_callback"
   ]
  },
  {
   "cell_type": "code",
   "execution_count": null,
   "id": "cbbdd75c",
   "metadata": {},
   "outputs": [],
   "source": [
    "!tensorboard dev upload --logdir ./tensorflow_hub/ \\\n",
    "--name \"Efficient\"\n",
    "--description \"Comparing Two Different\"\n",
    "--one_shot "
   ]
  },
  {
   "cell_type": "code",
   "execution_count": null,
   "id": "0b919db6",
   "metadata": {},
   "outputs": [],
   "source": [
    "train_data.classnames"
   ]
  },
  {
   "cell_type": "code",
   "execution_count": null,
   "id": "3f7d67cc",
   "metadata": {},
   "outputs": [],
   "source": [
    "data_augmentation=tf.keras.Sequential([\n",
    "    tf.keras.layers.RandomFlip('Horizontal'),\n",
    "    tf.keras.layers.RandomRotation(0.2),\n",
    "    tf.keras.layers.RandomZoom(0.2),\n",
    "    tf.keras.layers.RandomHeight(0.2),\n",
    "    tf.keras.layers.RandomWidth(0.2)\n",
    "],name=\"Data_Argumentation\")\n",
    "\n",
    "input_shape=(224,224,3)\n",
    "\n",
    "base_model=tf.keras.applications.efficientNetV2B7(include_top=False)\n",
    "base_model.trainable=False\n",
    "\n",
    "inputs = tf.keras.layers.Input(shape=input_shape,name='Input_layers')\n",
    "x=data_augmentation(inputs)\n",
    "x=base_model(x,training=False)\n",
    "x=tf.keras.layers.GlobalAveragePooling2D(name='global_average')(x)\n",
    "outputs=tf.keras.layers.Dense(10,activation='softmax',name='output_layer')(x)\n",
    "\n",
    "model_1=tf.keras.Model(inputs,outputs)\n",
    "\n"
   ]
  },
  {
   "cell_type": "code",
   "execution_count": null,
   "id": "369c4dd9",
   "metadata": {},
   "outputs": [],
   "source": [
    "checkpoint_path='ten_percent_model_checkpoints/checkpoint.ckpt'\n",
    "\n",
    "checkpoint_callback=tf.keras.callbacks.ModelCheckpoint(filepath=checkpoint_path,save_weights_only=True,save_best_only=True,save_freq='epoch',verbose=1)"
   ]
  },
  {
   "cell_type": "code",
   "execution_count": 18,
   "id": "71fac882",
   "metadata": {},
   "outputs": [],
   "source": [
    "import numpy as np\n",
    "\n",
    "arr = np.array([\n",
    "    [0.1, 0.7, 0.2],\n",
    "    [0.9, 0.05, 0.05],\n",
    "    [0.6, 0.3, 0.8]\n",
    "])"
   ]
  },
  {
   "cell_type": "code",
   "execution_count": 19,
   "id": "936caf8c",
   "metadata": {},
   "outputs": [
    {
     "data": {
      "text/plain": [
       "array([1, 0, 2], dtype=int64)"
      ]
     },
     "execution_count": 19,
     "metadata": {},
     "output_type": "execute_result"
    }
   ],
   "source": [
    "np.argmax(arr, axis=1)\n"
   ]
  },
  {
   "cell_type": "code",
   "execution_count": 21,
   "id": "b1bceaf9",
   "metadata": {},
   "outputs": [
    {
     "data": {
      "text/plain": [
       "array([0.9, 0.7, 0.8])"
      ]
     },
     "execution_count": 21,
     "metadata": {},
     "output_type": "execute_result"
    }
   ],
   "source": [
    "np.max(arr, axis=0)\n"
   ]
  },
  {
   "cell_type": "code",
   "execution_count": null,
   "id": "c7c2a294",
   "metadata": {},
   "outputs": [],
   "source": []
  }
 ],
 "metadata": {
  "kernelspec": {
   "display_name": "Python 3",
   "language": "python",
   "name": "python3"
  },
  "language_info": {
   "codemirror_mode": {
    "name": "ipython",
    "version": 3
   },
   "file_extension": ".py",
   "mimetype": "text/x-python",
   "name": "python",
   "nbconvert_exporter": "python",
   "pygments_lexer": "ipython3",
   "version": "3.11.3"
  }
 },
 "nbformat": 4,
 "nbformat_minor": 5
}
